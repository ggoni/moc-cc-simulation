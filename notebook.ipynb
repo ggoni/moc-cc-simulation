{
 "cells": [
  {
   "cell_type": "code",
   "execution_count": 9,
   "metadata": {},
   "outputs": [
    {
     "name": "stdout",
     "output_type": "stream",
     "text": [
      "Requirement already satisfied: simpy in ./.venv/lib/python3.12/site-packages (4.1.1)\n"
     ]
    }
   ],
   "source": [
    "!pip install simpy"
   ]
  },
  {
   "cell_type": "code",
   "execution_count": 10,
   "metadata": {},
   "outputs": [
    {
     "name": "stdout",
     "output_type": "stream",
     "text": [
      "Total calls: 137\n",
      "Average wait time: 0.00 minutes\n",
      "Average call duration: 4.15 minutes\n",
      "Average handle time: 4.15 minutes\n",
      "Overall agent utilization: 9.87%\n",
      "Hour 0: Utilization rate = 14.39%\n",
      "Hour 1: Utilization rate = 6.21%\n",
      "Hour 2: Utilization rate = 6.11%\n",
      "Hour 3: Utilization rate = 11.58%\n",
      "Hour 4: Utilization rate = 24.56%\n",
      "Hour 5: Utilization rate = 0.00%\n",
      "Hour 6: Utilization rate = 7.67%\n",
      "Hour 7: Utilization rate = 11.58%\n",
      "Hour 8: Utilization rate = 6.74%\n",
      "Hour 9: Utilization rate = 4.27%\n",
      "Hour 10: Utilization rate = 5.05%\n",
      "Hour 11: Utilization rate = 8.01%\n",
      "Hour 12: Utilization rate = 11.70%\n",
      "Hour 13: Utilization rate = 3.92%\n",
      "Hour 14: Utilization rate = 18.83%\n",
      "Hour 15: Utilization rate = 12.76%\n",
      "Hour 16: Utilization rate = 2.28%\n",
      "Hour 17: Utilization rate = 11.22%\n",
      "Hour 18: Utilization rate = 14.02%\n",
      "Hour 19: Utilization rate = 5.31%\n",
      "Hour 20: Utilization rate = 5.96%\n",
      "Hour 21: Utilization rate = 18.89%\n",
      "Hour 22: Utilization rate = 20.45%\n",
      "Hour 23: Utilization rate = 5.30%\n"
     ]
    }
   ],
   "source": [
    "import simpy\n",
    "import random\n",
    "import numpy as np\n",
    "\n",
    "# Simulation parameters\n",
    "SIM_TIME = 24 * 60  # 24 hours in minutes\n",
    "NUM_AGENTS = 4\n",
    "NUM_SHIFTS = 4\n",
    "CALLS_PER_DAY = 130\n",
    "AVG_CALL_DURATION = 4  # minutes\n",
    "\n",
    "# Calculate inter-arrival time\n",
    "INTER_ARRIVAL_TIME = SIM_TIME / CALLS_PER_DAY\n",
    "\n",
    "def contact_center(env, num_agents):\n",
    "    agents = simpy.Resource(env, capacity=num_agents)\n",
    "    while True:\n",
    "        yield env.timeout(random.expovariate(1.0 / INTER_ARRIVAL_TIME))\n",
    "        env.process(handle_call(env, agents))\n",
    "\n",
    "def handle_call(env, agents):\n",
    "    arrival_time = env.now\n",
    "    with agents.request() as request:\n",
    "        yield request\n",
    "        wait_time = env.now - arrival_time\n",
    "        call_duration = random.expovariate(1.0 / AVG_CALL_DURATION)\n",
    "        yield env.timeout(call_duration)\n",
    "        handle_time = env.now - arrival_time\n",
    "        call_data.append((arrival_time, wait_time, call_duration, handle_time))\n",
    "\n",
    "# Run simulation\n",
    "env = simpy.Environment()\n",
    "call_data = []\n",
    "env.process(contact_center(env, NUM_AGENTS))\n",
    "env.run(until=SIM_TIME)\n",
    "\n",
    "# Calculate overall metrics\n",
    "arrival_times, wait_times, call_durations, handle_times = zip(*call_data)\n",
    "total_calls = len(call_data)\n",
    "\n",
    "avg_wait_time = np.mean(wait_times)\n",
    "avg_call_duration = np.mean(call_durations)\n",
    "avg_handle_time = np.mean(handle_times)\n",
    "overall_utilization = sum(call_durations) / (SIM_TIME * NUM_AGENTS) * 100\n",
    "\n",
    "print(f\"Total calls: {total_calls}\")\n",
    "print(f\"Average wait time: {avg_wait_time:.2f} minutes\")\n",
    "print(f\"Average call duration: {avg_call_duration:.2f} minutes\")\n",
    "print(f\"Average handle time: {avg_handle_time:.2f} minutes\")\n",
    "print(f\"Overall agent utilization: {overall_utilization:.2f}%\")\n",
    "\n",
    "# Calculate utilization rates per hour\n",
    "hourly_utilization = [0] * 24\n",
    "for arrival_time, _, call_duration, _ in call_data:\n",
    "    hour = int(arrival_time // 60)\n",
    "    hourly_utilization[hour] += call_duration\n",
    "\n",
    "for hour, utilization in enumerate(hourly_utilization):\n",
    "    utilization_rate = (utilization / (60 * NUM_AGENTS)) * 100\n",
    "    print(f\"Hour {hour}: Utilization rate = {utilization_rate:.2f}%\")"
   ]
  }
 ],
 "metadata": {
  "kernelspec": {
   "display_name": ".venv",
   "language": "python",
   "name": "python3"
  },
  "language_info": {
   "codemirror_mode": {
    "name": "ipython",
    "version": 3
   },
   "file_extension": ".py",
   "mimetype": "text/x-python",
   "name": "python",
   "nbconvert_exporter": "python",
   "pygments_lexer": "ipython3",
   "version": "3.12.2"
  }
 },
 "nbformat": 4,
 "nbformat_minor": 2
}
